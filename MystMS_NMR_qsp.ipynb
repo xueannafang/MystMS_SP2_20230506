{
 "cells": [
  {
   "cell_type": "code",
   "execution_count": 3,
   "metadata": {},
   "outputs": [],
   "source": [
    "import numpy as np"
   ]
  },
  {
   "attachments": {},
   "cell_type": "markdown",
   "metadata": {},
   "source": [
    "XF2327"
   ]
  },
  {
   "cell_type": "code",
   "execution_count": 4,
   "metadata": {},
   "outputs": [],
   "source": [
    "# DMF, 3d, xf2327\n",
    "\n",
    "coeff_mat = np.array([[3, 3, 0], [2, 2, 2], [1, 4, 4], [6, 4, 4], [54, 36, 36], [9, 6, 6]])\n",
    "nmr_int_mat = np.array([3, 1.9, 6.34, 10.57, 76.7, 12.6])\n",
    "\n",
    "# stc_vec = np.linalg.solve(coeff_mat, nmr_int_mat)\n",
    "\n",
    "# stc_vec"
   ]
  },
  {
   "cell_type": "code",
   "execution_count": 5,
   "metadata": {},
   "outputs": [],
   "source": [
    "lpinv_coeff_mat = np.linalg.pinv(coeff_mat)\n",
    "stc_vec = np.dot(lpinv_coeff_mat, nmr_int_mat)"
   ]
  },
  {
   "cell_type": "code",
   "execution_count": 11,
   "metadata": {},
   "outputs": [
    {
     "name": "stdout",
     "output_type": "stream",
     "text": [
      "[0.51352411 0.48647589 0.8774028 ]\n",
      "1.877402804697297\n",
      "[0.273529   0.25912174 0.46734926]\n"
     ]
    }
   ],
   "source": [
    "stc_vec\n",
    "print(stc_vec)\n",
    "print(sum(stc_vec))\n",
    "print(stc_vec/sum(stc_vec))"
   ]
  },
  {
   "cell_type": "code",
   "execution_count": 9,
   "metadata": {},
   "outputs": [],
   "source": [
    "coeff_mat = np.array([[3, 3, 0], [2, 2, 2], [1, 4, 4], [6, 4, 4], [54, 36, 36], [9, 6, 6]]) # calculated from three products S3E0, S2E0 and S2E1\n",
    "\n",
    "def prod_ratio(ref_H, ortho_H, alpha_H, beta_H, alkyl_Hs, methyl_H, sample_id):\n",
    "\n",
    "    nmr_int_mat = np.array([ref_H, ortho_H, alpha_H, beta_H, alkyl_Hs, methyl_H])\n",
    "\n",
    "    lpinv_coeff_mat = np.linalg.pinv(coeff_mat)\n",
    "    stc_vec = np.dot(lpinv_coeff_mat, nmr_int_mat)\n",
    "\n",
    "    x, y, z = stc_vec\n",
    "    total_stc = sum(stc_vec)\n",
    "    px = x/total_stc\n",
    "    py = y/total_stc\n",
    "    pz = z/total_stc\n",
    "\n",
    "    print(sample_id, ':\\n', 'S3E0: ', px, '\\n', 'S2E0: ', py, '\\n', 'S2E1: ', pz)"
   ]
  },
  {
   "cell_type": "code",
   "execution_count": 13,
   "metadata": {},
   "outputs": [
    {
     "name": "stdout",
     "output_type": "stream",
     "text": [
      "XF2327_DMF_3d :\n",
      " S3E0:  0.27352900095343935 \n",
      " S2E0:  0.25912174266853594 \n",
      " S2E1:  0.4673492563780247\n"
     ]
    }
   ],
   "source": [
    "prod_ratio(3, 1.9, 6.34, 10.57, 76.7, 12.6, 'XF2327_DMF_3d')"
   ]
  },
  {
   "cell_type": "code",
   "execution_count": 14,
   "metadata": {},
   "outputs": [
    {
     "name": "stdout",
     "output_type": "stream",
     "text": [
      "XF2328_DMSO_3d :\n",
      " S3E0:  0.31444911298562517 \n",
      " S2E0:  0.21914963061473228 \n",
      " S2E1:  0.4664012563996425\n"
     ]
    }
   ],
   "source": [
    "prod_ratio(3, 1.79, 6.12, 12.06, 77.92, 12.07, 'XF2328_DMSO_3d')"
   ]
  },
  {
   "cell_type": "code",
   "execution_count": 15,
   "metadata": {},
   "outputs": [],
   "source": [
    "# if unreacted BrAlkane was found, an additional correction step will be carried out to remove overlap fraction on the alkyl chain signals.\n",
    "\n",
    "def prod_ratio_rm_brak(ref_H, ortho_H, ori_alpha_H, ori_beta_H, ori_alkyl_Hs, ori_methyl_H, br_ak_alpha_Hs, sample_id):\n",
    "\n",
    "    alpha_H_rm = br_ak_alpha_Hs\n",
    "    beta_H_rm = br_ak_alpha_Hs\n",
    "    alkyl_Hs_rm = 9*br_ak_alpha_Hs\n",
    "    methyl_H_rm = 1.5*br_ak_alpha_Hs\n",
    "\n",
    "    updt_alpha_H = ori_alpha_H - alpha_H_rm\n",
    "    updt_beta_H = ori_beta_H - beta_H_rm\n",
    "    updt_alkyl_Hs = ori_alkyl_Hs - alkyl_Hs_rm\n",
    "    updt_methyl_H = ori_methyl_H - methyl_H_rm\n",
    "\n",
    "    prod_ratio(ref_H, ortho_H, updt_alpha_H, updt_beta_H, updt_alkyl_Hs, updt_methyl_H, sample_id)\n"
   ]
  },
  {
   "cell_type": "code",
   "execution_count": 16,
   "metadata": {},
   "outputs": [
    {
     "name": "stdout",
     "output_type": "stream",
     "text": [
      "XF2307_DMF_2d :\n",
      " S3E0:  0.20125598916084877 \n",
      " S2E0:  0.4310278270479202 \n",
      " S2E1:  0.3677161837912311\n"
     ]
    }
   ],
   "source": [
    "prod_ratio_rm_brak(3, 3.62, 6.62, 6.77, 74.97, 11.92, 1.34, 'XF2307_DMF_2d')"
   ]
  },
  {
   "cell_type": "code",
   "execution_count": 17,
   "metadata": {},
   "outputs": [
    {
     "name": "stdout",
     "output_type": "stream",
     "text": [
      "XF2307_DMF_2d_2_rxl_rm_layer :\n",
      " S3E0:  -0.06254432520263996 \n",
      " S2E0:  0.8307347095978039 \n",
      " S2E1:  0.2318096156048359\n"
     ]
    }
   ],
   "source": [
    "prod_ratio_rm_brak(3, 7.66, 6.81, 6.84, 66.78, 10.18, 2.37, 'XF2307_DMF_2d_2_rxl_rm_layer')"
   ]
  },
  {
   "attachments": {},
   "cell_type": "markdown",
   "metadata": {},
   "source": [
    "the above cell suggests the recrystallisation can selectively remove disubstituted products and hydrolysis derivatives"
   ]
  },
  {
   "attachments": {},
   "cell_type": "markdown",
   "metadata": {},
   "source": []
  }
 ],
 "metadata": {
  "kernelspec": {
   "display_name": "test",
   "language": "python",
   "name": "python3"
  },
  "language_info": {
   "codemirror_mode": {
    "name": "ipython",
    "version": 3
   },
   "file_extension": ".py",
   "mimetype": "text/x-python",
   "name": "python",
   "nbconvert_exporter": "python",
   "pygments_lexer": "ipython3",
   "version": "3.9.2"
  },
  "orig_nbformat": 4
 },
 "nbformat": 4,
 "nbformat_minor": 2
}
