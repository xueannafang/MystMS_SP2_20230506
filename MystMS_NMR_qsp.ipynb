{
 "cells": [
  {
   "cell_type": "code",
   "execution_count": 3,
   "metadata": {},
   "outputs": [],
   "source": [
    "import numpy as np"
   ]
  },
  {
   "attachments": {},
   "cell_type": "markdown",
   "metadata": {},
   "source": [
    "XF2327"
   ]
  },
  {
   "cell_type": "code",
   "execution_count": 4,
   "metadata": {},
   "outputs": [],
   "source": [
    "# DMF, 3d, xf2327\n",
    "\n",
    "coeff_mat = np.array([[3, 3, 0], [2, 2, 2], [1, 4, 4], [6, 4, 4], [54, 36, 36], [9, 6, 6]])\n",
    "nmr_int_mat = np.array([3, 1.9, 6.34, 10.57, 76.7, 12.6])\n",
    "\n",
    "# stc_vec = np.linalg.solve(coeff_mat, nmr_int_mat)\n",
    "\n",
    "# stc_vec"
   ]
  },
  {
   "cell_type": "code",
   "execution_count": 5,
   "metadata": {},
   "outputs": [],
   "source": [
    "lpinv_coeff_mat = np.linalg.pinv(coeff_mat)\n",
    "stc_vec = np.dot(lpinv_coeff_mat, nmr_int_mat)"
   ]
  },
  {
   "cell_type": "code",
   "execution_count": 11,
   "metadata": {},
   "outputs": [
    {
     "name": "stdout",
     "output_type": "stream",
     "text": [
      "[0.51352411 0.48647589 0.8774028 ]\n",
      "1.877402804697297\n",
      "[0.273529   0.25912174 0.46734926]\n"
     ]
    }
   ],
   "source": [
    "stc_vec\n",
    "print(stc_vec)\n",
    "print(sum(stc_vec))\n",
    "print(stc_vec/sum(stc_vec))"
   ]
  },
  {
   "cell_type": "code",
   "execution_count": 9,
   "metadata": {},
   "outputs": [],
   "source": [
    "coeff_mat = np.array([[3, 3, 0], [2, 2, 2], [1, 4, 4], [6, 4, 4], [54, 36, 36], [9, 6, 6]]) # calculated from three products S3E0, S2E0 and S2E1\n",
    "\n",
    "def prod_ratio(ref_H, ortho_H, alpha_H, beta_H, alkyl_Hs, methyl_H, sample_id):\n",
    "\n",
    "    nmr_int_mat = np.array([ref_H, ortho_H, alpha_H, beta_H, alkyl_Hs, methyl_H])\n",
    "\n",
    "    lpinv_coeff_mat = np.linalg.pinv(coeff_mat)\n",
    "    stc_vec = np.dot(lpinv_coeff_mat, nmr_int_mat)\n",
    "\n",
    "    x, y, z = stc_vec\n",
    "    total_stc = sum(stc_vec)\n",
    "    px = x/total_stc\n",
    "    py = y/total_stc\n",
    "    pz = z/total_stc\n",
    "\n",
    "    print(sample_id, ':\\n', 'S3E0: ', px, '\\n', 'S2E0: ', py, '\\n', 'S2E1: ', pz)"
   ]
  },
  {
   "cell_type": "code",
   "execution_count": 13,
   "metadata": {},
   "outputs": [
    {
     "name": "stdout",
     "output_type": "stream",
     "text": [
      "XF2327_DMF_3d :\n",
      " S3E0:  0.27352900095343935 \n",
      " S2E0:  0.25912174266853594 \n",
      " S2E1:  0.4673492563780247\n"
     ]
    }
   ],
   "source": [
    "prod_ratio(3, 1.9, 6.34, 10.57, 76.7, 12.6, 'XF2327_DMF_3d')"
   ]
  },
  {
   "cell_type": "code",
   "execution_count": 14,
   "metadata": {},
   "outputs": [
    {
     "name": "stdout",
     "output_type": "stream",
     "text": [
      "XF2328_DMSO_3d :\n",
      " S3E0:  0.31444911298562517 \n",
      " S2E0:  0.21914963061473228 \n",
      " S2E1:  0.4664012563996425\n"
     ]
    }
   ],
   "source": [
    "prod_ratio(3, 1.79, 6.12, 12.06, 77.92, 12.07, 'XF2328_DMSO_3d')"
   ]
  },
  {
   "attachments": {},
   "cell_type": "markdown",
   "metadata": {},
   "source": []
  }
 ],
 "metadata": {
  "kernelspec": {
   "display_name": "test",
   "language": "python",
   "name": "python3"
  },
  "language_info": {
   "codemirror_mode": {
    "name": "ipython",
    "version": 3
   },
   "file_extension": ".py",
   "mimetype": "text/x-python",
   "name": "python",
   "nbconvert_exporter": "python",
   "pygments_lexer": "ipython3",
   "version": "3.9.2"
  },
  "orig_nbformat": 4
 },
 "nbformat": 4,
 "nbformat_minor": 2
}
