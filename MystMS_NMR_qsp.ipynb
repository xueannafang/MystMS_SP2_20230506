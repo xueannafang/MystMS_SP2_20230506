{
 "cells": [
  {
   "cell_type": "code",
   "execution_count": 3,
   "metadata": {},
   "outputs": [],
   "source": [
    "import numpy as np"
   ]
  },
  {
   "attachments": {},
   "cell_type": "markdown",
   "metadata": {},
   "source": [
    "XF2327"
   ]
  },
  {
   "cell_type": "code",
   "execution_count": 4,
   "metadata": {},
   "outputs": [],
   "source": [
    "# DMF, 3d, xf2327\n",
    "\n",
    "coeff_mat = np.array([[3, 3, 0], [2, 2, 2], [1, 4, 4], [6, 4, 4], [54, 36, 36], [9, 6, 6]])\n",
    "nmr_int_mat = np.array([3, 1.9, 6.34, 10.57, 76.7, 12.6])\n",
    "\n",
    "# stc_vec = np.linalg.solve(coeff_mat, nmr_int_mat)\n",
    "\n",
    "# stc_vec"
   ]
  },
  {
   "cell_type": "code",
   "execution_count": 5,
   "metadata": {},
   "outputs": [],
   "source": [
    "lpinv_coeff_mat = np.linalg.pinv(coeff_mat)\n",
    "stc_vec = np.dot(lpinv_coeff_mat, nmr_int_mat)"
   ]
  },
  {
   "cell_type": "code",
   "execution_count": 11,
   "metadata": {},
   "outputs": [
    {
     "name": "stdout",
     "output_type": "stream",
     "text": [
      "[0.51352411 0.48647589 0.8774028 ]\n",
      "1.877402804697297\n",
      "[0.273529   0.25912174 0.46734926]\n"
     ]
    }
   ],
   "source": [
    "stc_vec\n",
    "print(stc_vec)\n",
    "print(sum(stc_vec))\n",
    "print(stc_vec/sum(stc_vec))"
   ]
  },
  {
   "cell_type": "code",
   "execution_count": 9,
   "metadata": {},
   "outputs": [],
   "source": [
    "coeff_mat = np.array([[3, 3, 0], [2, 2, 2], [1, 4, 4], [6, 4, 4], [54, 36, 36], [9, 6, 6]]) # calculated from three products S3E0, S2E0 and S2E1\n",
    "\n",
    "def prod_ratio(ref_H, ortho_H, alpha_H, beta_H, alkyl_Hs, methyl_H, sample_id):\n",
    "\n",
    "    nmr_int_mat = np.array([ref_H, ortho_H, alpha_H, beta_H, alkyl_Hs, methyl_H])\n",
    "\n",
    "    lpinv_coeff_mat = np.linalg.pinv(coeff_mat)\n",
    "    stc_vec = np.dot(lpinv_coeff_mat, nmr_int_mat)\n",
    "\n",
    "    x, y, z = stc_vec\n",
    "    total_stc = sum(stc_vec)\n",
    "    px = x/total_stc\n",
    "    py = y/total_stc\n",
    "    pz = z/total_stc\n",
    "\n",
    "    print(sample_id, ':\\n', 'S3E0: ', px, '\\n', 'S2E0: ', py, '\\n', 'S2E1: ', pz)"
   ]
  },
  {
   "cell_type": "code",
   "execution_count": 13,
   "metadata": {},
   "outputs": [
    {
     "name": "stdout",
     "output_type": "stream",
     "text": [
      "XF2327_DMF_3d :\n",
      " S3E0:  0.27352900095343935 \n",
      " S2E0:  0.25912174266853594 \n",
      " S2E1:  0.4673492563780247\n"
     ]
    }
   ],
   "source": [
    "prod_ratio(3, 1.9, 6.34, 10.57, 76.7, 12.6, 'XF2327_DMF_3d')"
   ]
  },
  {
   "cell_type": "code",
   "execution_count": 14,
   "metadata": {},
   "outputs": [
    {
     "name": "stdout",
     "output_type": "stream",
     "text": [
      "XF2328_DMSO_3d :\n",
      " S3E0:  0.31444911298562517 \n",
      " S2E0:  0.21914963061473228 \n",
      " S2E1:  0.4664012563996425\n"
     ]
    }
   ],
   "source": [
    "prod_ratio(3, 1.79, 6.12, 12.06, 77.92, 12.07, 'XF2328_DMSO_3d')"
   ]
  },
  {
   "cell_type": "code",
   "execution_count": 15,
   "metadata": {},
   "outputs": [],
   "source": [
    "# if unreacted BrAlkane was found, an additional correction step will be carried out to remove overlap fraction on the alkyl chain signals.\n",
    "\n",
    "def prod_ratio_rm_brak(ref_H, ortho_H, ori_alpha_H, ori_beta_H, ori_alkyl_Hs, ori_methyl_H, br_ak_alpha_Hs, sample_id):\n",
    "\n",
    "    alpha_H_rm = br_ak_alpha_Hs\n",
    "    beta_H_rm = br_ak_alpha_Hs\n",
    "    alkyl_Hs_rm = 9*br_ak_alpha_Hs\n",
    "    methyl_H_rm = 1.5*br_ak_alpha_Hs\n",
    "\n",
    "    updt_alpha_H = ori_alpha_H - alpha_H_rm\n",
    "    updt_beta_H = ori_beta_H - beta_H_rm\n",
    "    updt_alkyl_Hs = ori_alkyl_Hs - alkyl_Hs_rm\n",
    "    updt_methyl_H = ori_methyl_H - methyl_H_rm\n",
    "\n",
    "    prod_ratio(ref_H, ortho_H, updt_alpha_H, updt_beta_H, updt_alkyl_Hs, updt_methyl_H, sample_id)\n"
   ]
  },
  {
   "cell_type": "code",
   "execution_count": 16,
   "metadata": {},
   "outputs": [
    {
     "name": "stdout",
     "output_type": "stream",
     "text": [
      "XF2307_DMF_2d :\n",
      " S3E0:  0.20125598916084877 \n",
      " S2E0:  0.4310278270479202 \n",
      " S2E1:  0.3677161837912311\n"
     ]
    }
   ],
   "source": [
    "prod_ratio_rm_brak(3, 3.62, 6.62, 6.77, 74.97, 11.92, 1.34, 'XF2307_DMF_2d')"
   ]
  },
  {
   "cell_type": "code",
   "execution_count": 17,
   "metadata": {},
   "outputs": [
    {
     "name": "stdout",
     "output_type": "stream",
     "text": [
      "XF2307_DMF_2d_2_rxl_rm_layer :\n",
      " S3E0:  -0.06254432520263996 \n",
      " S2E0:  0.8307347095978039 \n",
      " S2E1:  0.2318096156048359\n"
     ]
    }
   ],
   "source": [
    "prod_ratio_rm_brak(3, 7.66, 6.81, 6.84, 66.78, 10.18, 2.37, 'XF2307_DMF_2d_2_rxl_rm_layer')"
   ]
  },
  {
   "attachments": {},
   "cell_type": "markdown",
   "metadata": {},
   "source": [
    "the above cell suggests the recrystallisation can selectively remove disubstituted products and hydrolysis derivatives\n",
    "\n",
    "but it also could be the inaccuracy led by signals overlapped with solvent residue (ortho H and alkyl Hs)"
   ]
  },
  {
   "cell_type": "code",
   "execution_count": 19,
   "metadata": {},
   "outputs": [
    {
     "name": "stdout",
     "output_type": "stream",
     "text": [
      "XF2308_tBuOH_24_DMSO_76_2d :\n",
      " S3E0:  0.3851777262975834 \n",
      " S2E0:  0.22308376997299031 \n",
      " S2E1:  0.3917385037294262\n",
      "XF2308_tBuOH_24_DMSO_76_2d_2_rxl_rm_layer :\n",
      " S3E0:  -0.08034564374535191 \n",
      " S2E0:  0.6696088396869541 \n",
      " S2E1:  0.41073680405839785\n"
     ]
    }
   ],
   "source": [
    "prod_ratio_rm_brak(3, 3.27, 6.24, 10.87, 84.28, 15.19, 1.56, 'XF2308_tBuOH_24_DMSO_76_2d')\n",
    "prod_ratio_rm_brak(3, 4.03, 7.07, 6.95, 57.29, 17.45, 0, 'XF2308_tBuOH_24_DMSO_76_2d_2_rxl_rm_layer')"
   ]
  },
  {
   "cell_type": "code",
   "execution_count": 20,
   "metadata": {},
   "outputs": [
    {
     "name": "stdout",
     "output_type": "stream",
     "text": [
      "XF2309_IPA_23_DMSO_77_2d :\n",
      " S3E0:  0.12850564725637426 \n",
      " S2E0:  0.5655612715248971 \n",
      " S2E1:  0.3059330812187286\n",
      "XF2309_IPA_23_DMSO_77_2d_2_rxl_rm_layer :\n",
      " S3E0:  0.16369484957319877 \n",
      " S2E0:  0.4026504780536339 \n",
      " S2E1:  0.43365467237316735\n"
     ]
    }
   ],
   "source": [
    "prod_ratio_rm_brak(3, 3.92, 6.64, 7.98, 69.2, 15.88, 1.64, 'XF2309_IPA_23_DMSO_77_2d')\n",
    "prod_ratio_rm_brak(3, 3.56, 6.58, 6.5, 71.99, 14.79, 0.39, 'XF2309_IPA_23_DMSO_77_2d_2_rxl_rm_layer')"
   ]
  },
  {
   "cell_type": "code",
   "execution_count": 22,
   "metadata": {},
   "outputs": [
    {
     "name": "stdout",
     "output_type": "stream",
     "text": [
      "XF2310_IPA_30_ACN_31_NMI_39_2d :\n",
      " S3E0:  0.09703658199872064 \n",
      " S2E0:  0.39693916385410866 \n",
      " S2E1:  0.5060242541471707\n"
     ]
    }
   ],
   "source": [
    "prod_ratio_rm_brak(3, 2.19, 7.91, 7.66, 77.07, 11.41, 0.03, 'XF2310_IPA_30_ACN_31_NMI_39_2d')"
   ]
  },
  {
   "cell_type": "code",
   "execution_count": 24,
   "metadata": {},
   "outputs": [
    {
     "name": "stdout",
     "output_type": "stream",
     "text": [
      "XF2311_EA_10_DMSO_73_EtOH_17_2d :\n",
      " S3E0:  0.3631632117556505 \n",
      " S2E0:  0.18693821143029826 \n",
      " S2E1:  0.44989857681405127\n",
      "XF2311_EA_10_DMSO_73_EtOH_17_2d_2_rxl_rm_layer :\n",
      " S3E0:  0.07240158226028208 \n",
      " S2E0:  0.48649676798279007 \n",
      " S2E1:  0.44110164975692784\n"
     ]
    }
   ],
   "source": [
    "prod_ratio_rm_brak(3, 2.49, 6.55, 7.95, 86.86, 14.19, 1.03, 'XF2311_EA_10_DMSO_73_EtOH_17_2d')\n",
    "prod_ratio_rm_brak(3, 7.97, 6.26, 4.87, 69.58, 15.71, 0.37, 'XF2311_EA_10_DMSO_73_EtOH_17_2d_2_rxl_rm_layer')"
   ]
  },
  {
   "cell_type": "code",
   "execution_count": 25,
   "metadata": {},
   "outputs": [
    {
     "name": "stdout",
     "output_type": "stream",
     "text": [
      "XF2312_DMSO_79_EtOH_21_2d :\n",
      " S3E0:  -0.08742539046166932 \n",
      " S2E0:  0.6507743720209983 \n",
      " S2E1:  0.43665101844067106\n"
     ]
    }
   ],
   "source": [
    "prod_ratio_rm_brak(3, 13.88, 5.5, 11.38, 60.23, 10.34, 0, 'XF2312_DMSO_79_EtOH_21_2d') # this group may have issue with the ortho_H integral due to large overlap with CDCl3 peak"
   ]
  },
  {
   "cell_type": "code",
   "execution_count": 26,
   "metadata": {},
   "outputs": [
    {
     "name": "stdout",
     "output_type": "stream",
     "text": [
      "XF2313_EA_23_DMSO_77_2d :\n",
      " S3E0:  -0.3165491610981916 \n",
      " S2E0:  0.9145423964318139 \n",
      " S2E1:  0.40200676466637775\n"
     ]
    }
   ],
   "source": [
    "prod_ratio_rm_brak(3, 7.93, 7.36, 7.26, 49.44, 13.84, 0, 'XF2313_EA_23_DMSO_77_2d')"
   ]
  },
  {
   "cell_type": "code",
   "execution_count": 28,
   "metadata": {},
   "outputs": [
    {
     "name": "stdout",
     "output_type": "stream",
     "text": [
      "XF2319_tBuOH_19_DMSO_76_EtOH_5_2d :\n",
      " S3E0:  0.19903759983749458 \n",
      " S2E0:  0.39984227425502683 \n",
      " S2E1:  0.40112012590747864\n",
      "XF2319_tBuOH_19_DMSO_76_EtOH_5_2d_F_crash_from_filtrate :\n",
      " S3E0:  -0.07823976981846538 \n",
      " S2E0:  0.7658835842777235 \n",
      " S2E1:  0.31235618554074185\n",
      "XF2319_tBuOH_19_DMSO_76_EtOH_5_2d_F_crash_from_filtrate_rxl_rm_layer :\n",
      " S3E0:  0.01674260705639387 \n",
      " S2E0:  0.669341332822284 \n",
      " S2E1:  0.3139160601213222\n"
     ]
    }
   ],
   "source": [
    "prod_ratio_rm_brak(3, 2.4, 5.87, 9.49, 65.49, 13.4, 0, 'XF2319_tBuOH_19_DMSO_76_EtOH_5_2d')\n",
    "prod_ratio_rm_brak(3, 2.4, 6.26, 6.93, 49.36, 13.26, 0, 'XF2319_tBuOH_19_DMSO_76_EtOH_5_2d_F_crash_from_filtrate')\n",
    "prod_ratio_rm_brak(3, 2.2, 5.9, 6.91, 52.86, 8.58, 0, 'XF2319_tBuOH_19_DMSO_76_EtOH_5_2d_F_crash_from_filtrate_rxl_rm_layer')"
   ]
  },
  {
   "cell_type": "code",
   "execution_count": 29,
   "metadata": {},
   "outputs": [
    {
     "name": "stdout",
     "output_type": "stream",
     "text": [
      "XF2320_TEA_6_DMSO_94_2d :\n",
      " S3E0:  0.0874081551371321 \n",
      " S2E0:  0.5148881381072059 \n",
      " S2E1:  0.39770370675566197\n",
      "XF2320_TEA_6_DMSO_94_2d_crude :\n",
      " S3E0:  0.11692121089196963 \n",
      " S2E0:  0.4721443066122618 \n",
      " S2E1:  0.4109344824957686\n"
     ]
    }
   ],
   "source": [
    "prod_ratio_rm_brak(3, 2.15, 6.44, 7.4, 62.37, 10.4, 0, 'XF2320_TEA_6_DMSO_94_2d')\n",
    "prod_ratio_rm_brak(3, 2.47, 6.38, 6.67, 64.77, 10.81, 0, 'XF2320_TEA_6_DMSO_94_2d_crude')"
   ]
  },
  {
   "cell_type": "code",
   "execution_count": 30,
   "metadata": {},
   "outputs": [
    {
     "name": "stdout",
     "output_type": "stream",
     "text": [
      "XF2321_DMSO_75_TEA_5_EtOH_20_2d :\n",
      " S3E0:  -0.05971213168746026 \n",
      " S2E0:  0.7833430411473815 \n",
      " S2E1:  0.27636909054007863\n",
      "XF2321_DMSO_75_TEA_5_EtOH_20_2d_crude :\n",
      " S3E0:  0.10161159385429501 \n",
      " S2E0:  0.5262886236306961 \n",
      " S2E1:  0.37209978251500886\n"
     ]
    }
   ],
   "source": [
    "prod_ratio_rm_brak(3, 2.04, 5.92, 6.46, 48.31, 7.18, 0, 'XF2321_DMSO_75_TEA_5_EtOH_20_2d')\n",
    "prod_ratio_rm_brak(3, 2.31, 6.06, 7.11, 60.11, 10.76, 0, 'XF2321_DMSO_75_TEA_5_EtOH_20_2d_crude')"
   ]
  },
  {
   "attachments": {},
   "cell_type": "markdown",
   "metadata": {},
   "source": [
    "The ortho_H term and alkyl Hs might lead to mis prediction because it is deconvoluted from the overlapped peak with solvent residue (CDCl3, D2O).\n",
    "\n",
    "The following attempt will remove those dimensions."
   ]
  },
  {
   "cell_type": "code",
   "execution_count": 33,
   "metadata": {},
   "outputs": [],
   "source": [
    "coeff_mat = np.array([[3, 3, 0], [1, 4, 4], [6, 4, 4], [9, 6, 6]]) # calculated from three products S3E0, S2E0 and S2E1\n",
    "\n",
    "def prod_ratio_no_ovlp(ref_H, alpha_H, beta_H, methyl_H, sample_id):\n",
    "\n",
    "    nmr_int_mat = np.array([ref_H, alpha_H, beta_H, methyl_H])\n",
    "\n",
    "    lpinv_coeff_mat = np.linalg.pinv(coeff_mat)\n",
    "    stc_vec = np.dot(lpinv_coeff_mat, nmr_int_mat)\n",
    "\n",
    "    x, y, z = stc_vec\n",
    "    total_stc = sum(stc_vec)\n",
    "    px = x/total_stc\n",
    "    py = y/total_stc\n",
    "    pz = z/total_stc\n",
    "\n",
    "    print(sample_id, ':\\n', 'S3E0: ', px, '\\n', 'S2E0: ', py, '\\n', 'S2E1: ', pz)\n",
    "\n",
    "def prod_ratio_rm_brak_no_ovlp(ref_H, ori_alpha_H, ori_beta_H, ori_methyl_H, br_ak_alpha_Hs, sample_id):\n",
    "\n",
    "    alpha_H_rm = br_ak_alpha_Hs\n",
    "    beta_H_rm = br_ak_alpha_Hs\n",
    "    methyl_H_rm = 1.5*br_ak_alpha_Hs\n",
    "\n",
    "    updt_alpha_H = ori_alpha_H - alpha_H_rm\n",
    "    updt_beta_H = ori_beta_H - beta_H_rm\n",
    "    updt_methyl_H = ori_methyl_H - methyl_H_rm\n",
    "\n",
    "    prod_ratio_no_ovlp(ref_H, updt_alpha_H, updt_beta_H, updt_methyl_H, sample_id)\n"
   ]
  },
  {
   "cell_type": "code",
   "execution_count": 36,
   "metadata": {},
   "outputs": [
    {
     "name": "stdout",
     "output_type": "stream",
     "text": [
      "XF2313_EA_23_DMSO_77_2d_no_ortho_alkyl_test :\n",
      " S3E0:  0.12433661865049239 \n",
      " S2E0:  0.3684609552691436 \n",
      " S2E1:  0.507202426080364\n"
     ]
    }
   ],
   "source": [
    "prod_ratio_rm_brak_no_ovlp(3, 7.36, 7.26, 13.84, 0, 'XF2313_EA_23_DMSO_77_2d_no_ortho_alkyl_test')"
   ]
  },
  {
   "cell_type": "code",
   "execution_count": 37,
   "metadata": {},
   "outputs": [
    {
     "name": "stdout",
     "output_type": "stream",
     "text": [
      "XF2307_DMF_2d_2_rxl_rm_layer_no_ovlp :\n",
      " S3E0:  -0.0012485693476229054 \n",
      " S2E0:  0.9029930981861065 \n",
      " S2E1:  0.09825547116151637\n",
      "XF2308_tBuOH_24_DMSO_76_2d_2_rxl_rm_layer_no_ovlp :\n",
      " S3E0:  0.2792953966834098 \n",
      " S2E0:  0.16796256794880626 \n",
      " S2E1:  0.552742035367784\n",
      "XF2312_DMSO_79_EtOH_21_2d_no_ovlp :\n",
      " S3E0:  0.3097405943995873 \n",
      " S2E0:  0.24858271774609186 \n",
      " S2E1:  0.44167668785432085\n",
      "XF2319_tBuOH_19_DMSO_76_EtOH_5_2d_F_crash_from_filtrate_no_ovlp :\n",
      " S3E0:  0.21378456458935163 \n",
      " S2E0:  0.3227404044572845 \n",
      " S2E1:  0.46347503095336384\n",
      "XF2321_DMSO_75_TEA_5_EtOH_20_2d_no_ovlp :\n",
      " S3E0:  -0.08916491072418806 \n",
      " S2E0:  0.8100255073749587 \n",
      " S2E1:  0.2791394033492292\n"
     ]
    }
   ],
   "source": [
    "prod_ratio_rm_brak_no_ovlp(3, 6.81, 6.84, 10.18, 2.37, 'XF2307_DMF_2d_2_rxl_rm_layer_no_ovlp')\n",
    "prod_ratio_rm_brak_no_ovlp(3, 7.07, 6.95, 17.45, 0, 'XF2308_tBuOH_24_DMSO_76_2d_2_rxl_rm_layer_no_ovlp')\n",
    "prod_ratio_rm_brak_no_ovlp(3, 5.5, 11.38, 10.34, 0, 'XF2312_DMSO_79_EtOH_21_2d_no_ovlp')\n",
    "prod_ratio_rm_brak_no_ovlp(3, 6.26, 6.93, 13.26, 0, 'XF2319_tBuOH_19_DMSO_76_EtOH_5_2d_F_crash_from_filtrate_no_ovlp')\n",
    "prod_ratio_rm_brak_no_ovlp(3, 5.92, 6.46, 7.18, 0, 'XF2321_DMSO_75_TEA_5_EtOH_20_2d_no_ovlp')"
   ]
  },
  {
   "attachments": {},
   "cell_type": "markdown",
   "metadata": {},
   "source": []
  }
 ],
 "metadata": {
  "kernelspec": {
   "display_name": "test",
   "language": "python",
   "name": "python3"
  },
  "language_info": {
   "codemirror_mode": {
    "name": "ipython",
    "version": 3
   },
   "file_extension": ".py",
   "mimetype": "text/x-python",
   "name": "python",
   "nbconvert_exporter": "python",
   "pygments_lexer": "ipython3",
   "version": "3.9.2"
  },
  "orig_nbformat": 4
 },
 "nbformat": 4,
 "nbformat_minor": 2
}
