{
 "cells": [
  {
   "cell_type": "code",
   "execution_count": 25,
   "metadata": {},
   "outputs": [],
   "source": [
    "import numpy as np\n",
    "import pprint"
   ]
  },
  {
   "cell_type": "code",
   "execution_count": 26,
   "metadata": {},
   "outputs": [],
   "source": [
    "Ol2Et = {\n",
    "    'st_ms' : 184.15,\n",
    "    'updt_ms' : 168.324,\n",
    "    'rxn' : 'smOH->OC12H25_',\n",
    "    'max_rxn' : 3,\n",
    "    'msg' : '* OH group(s) on trioxyl methyl-benzoate substituted by dodecyl group(s)'\n",
    "}"
   ]
  },
  {
   "cell_type": "code",
   "execution_count": 27,
   "metadata": {},
   "outputs": [
    {
     "data": {
      "text/plain": [
       "3"
      ]
     },
     "execution_count": 27,
     "metadata": {},
     "output_type": "execute_result"
    }
   ],
   "source": [
    "Ol2Et['max_rxn']"
   ]
  },
  {
   "cell_type": "code",
   "execution_count": 28,
   "metadata": {},
   "outputs": [
    {
     "name": "stdout",
     "output_type": "stream",
     "text": [
      "{'ms': [184.15, 352.47400000000005, 520.798, 689.1220000000001],\n",
      " 'msg': ['0 * OH group(s) on trioxyl methyl-benzoate substituted by dodecyl '\n",
      "         'group(s)',\n",
      "         '1 * OH group(s) on trioxyl methyl-benzoate substituted by dodecyl '\n",
      "         'group(s)',\n",
      "         '2 * OH group(s) on trioxyl methyl-benzoate substituted by dodecyl '\n",
      "         'group(s)',\n",
      "         '3 * OH group(s) on trioxyl methyl-benzoate substituted by dodecyl '\n",
      "         'group(s)'],\n",
      " 'name': ['smOH->OC12H25_0',\n",
      "          'smOH->OC12H25_1',\n",
      "          'smOH->OC12H25_2',\n",
      "          'smOH->OC12H25_3'],\n",
      " 'rxn_n': [0, 1, 2, 3]}\n"
     ]
    }
   ],
   "source": [
    "all_ms_Ol2Et = {\n",
    "    'rxn_n' : [],\n",
    "    'ms' : [],\n",
    "    'msg' : [],\n",
    "    'name' : []\n",
    "}\n",
    "\n",
    "def all_ms_updt(all_ms_dict, new_rxn_n, new_ms, new_msg, rxn_type):\n",
    "    all_ms_dict['rxn_n'].append(new_rxn_n)\n",
    "    all_ms_dict['ms'].append(new_ms)\n",
    "    all_ms_dict['msg'].append(new_msg)\n",
    "    new_name = rxn_type + str(new_rxn_n)\n",
    "    all_ms_dict['name'].append(new_name)\n",
    "    # print(all_ms_dict)\n",
    "    return all_ms_dict\n",
    "\n",
    "for i in range(Ol2Et['max_rxn'] + 1):\n",
    "    new_ms = Ol2Et['st_ms'] + Ol2Et['updt_ms'] * i\n",
    "    # print(new_ms)\n",
    "    new_msg = str(i) + ' ' + Ol2Et['msg']\n",
    "    # print(new_msg)\n",
    "    rxn_type = Ol2Et['rxn']\n",
    "    all_ms_updt(all_ms_Ol2Et, i, new_ms, new_msg, rxn_type)\n",
    "\n",
    "pprint.pprint(all_ms_Ol2Et)\n",
    "    \n"
   ]
  },
  {
   "cell_type": "code",
   "execution_count": null,
   "metadata": {},
   "outputs": [],
   "source": [
    "atom_mass_dict = {\n",
    "    'C' : 12.011,\n",
    "    'H' : 1.008,\n",
    "    'O' : 15.999,\n",
    "    'N' : 14.007,\n",
    "    'S' : 32.06,\n",
    "    'Br' : 79.904\n",
    "}\n",
    "\n",
    "\n",
    "rx_comb = {\n",
    "    'CBr' : [['ACOH', [['H', -1], ['Br', -1]]], ['COH', [['H', -1], ['Br', -1]]], ['ACN', []]]\n",
    "    \n",
    "}"
   ]
  },
  {
   "cell_type": "code",
   "execution_count": null,
   "metadata": {},
   "outputs": [],
   "source": [
    "ind_solvent_from_db_DMF= {\n",
    "    'name' : 'DMF',\n",
    "    'formula' : [['C', 3], ['H', 7], ['N', 1], ['O', 1]],\n",
    "    'basicity' : 0,\n",
    "    'rx_site' : None\n",
    "}\n",
    "\n",
    "ind_solvent_from_db_NMI= {\n",
    "    'name' : 'DMF',\n",
    "    'formula' : [['C', 3], ['H', 7], ['N', 1], ['O', 1]],\n",
    "    'kamlet_taft' : [0, 0.69, 0.88],\n",
    "    'basicity' : 0,\n",
    "    'rx_site' : [['ACN', 1]]\n",
    "}\n",
    "\n",
    "ind_sm_acoh_est = {\n",
    "    'name' : 'ACOH_est',\n",
    "    'formula' : [['C', 8], ['H', 8], ['O', 5]],\n",
    "    'rx_site' : [['ACOH', 3], ['COOR', 1]]\n",
    "}\n",
    "\n",
    "ind_sm_br_alk = {\n",
    "    'name' : 'Br_alk',\n",
    "    'formula' : [['C', 12], ['H', 25], ['Br', 1]],\n",
    "    'rx_site' : [['CBr', 1]]\n",
    "}"
   ]
  },
  {
   "cell_type": "code",
   "execution_count": null,
   "metadata": {},
   "outputs": [],
   "source": [
    "all_sm = ['ACOH_est', 'Br_alk']\n",
    "all_solv = ['DMF']"
   ]
  }
 ],
 "metadata": {
  "kernelspec": {
   "display_name": "test",
   "language": "python",
   "name": "python3"
  },
  "language_info": {
   "codemirror_mode": {
    "name": "ipython",
    "version": 3
   },
   "file_extension": ".py",
   "mimetype": "text/x-python",
   "name": "python",
   "nbconvert_exporter": "python",
   "pygments_lexer": "ipython3",
   "version": "3.9.2"
  },
  "orig_nbformat": 4
 },
 "nbformat": 4,
 "nbformat_minor": 2
}
